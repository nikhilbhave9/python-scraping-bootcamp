{
 "cells": [
  {
   "cell_type": "markdown",
   "metadata": {},
   "source": [
    "# Project: Pipelined JavaScript scraping with Playwright\n",
    "\n",
    "- Scrape from https://steampowered.com/specials \n",
    "- No input as such, just the most discounted games at any given point \n",
    "- Output: list of (title, link to thumbnail, category tags, release date, # of reviews, original price, dis price, dis %age)\n",
    "- Stick with Playwright, don't use API \n",
    "- Output2: Make an organized pipeline\n",
    "\n"
   ]
  },
  {
   "cell_type": "code",
   "execution_count": null,
   "metadata": {
    "vscode": {
     "languageId": "plaintext"
    }
   },
   "outputs": [],
   "source": []
  }
 ],
 "metadata": {
  "language_info": {
   "name": "python"
  },
  "orig_nbformat": 4
 },
 "nbformat": 4,
 "nbformat_minor": 2
}
