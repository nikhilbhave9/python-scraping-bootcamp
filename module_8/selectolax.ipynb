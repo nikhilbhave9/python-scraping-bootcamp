{
 "cells": [
  {
   "cell_type": "markdown",
   "metadata": {},
   "source": [
    "# Selectolax\n",
    "Selectolax is a fast and lightweight library for parsing HTML and XML documents in Python. It is designed to be a drop-in replacement for the popular BeautifulSoup library, with significantly faster performance."
   ]
  },
  {
   "cell_type": "code",
   "execution_count": null,
   "metadata": {},
   "outputs": [],
   "source": [
    "%pip install selectolax==0.3.12"
   ]
  },
  {
   "cell_type": "code",
   "execution_count": null,
   "metadata": {},
   "outputs": [],
   "source": [
    "import requests as r\n",
    "\n",
    "url = \"https://en.wikipedia.org/wiki/Florence_Cathedral\"\n",
    "resp = r.get(url)\n",
    "resp.text"
   ]
  },
  {
   "cell_type": "code",
   "execution_count": null,
   "metadata": {},
   "outputs": [],
   "source": [
    "from selectolax.parser import HTMLParser\n",
    "\n",
    "tree = HTMLParser(resp.text)\n",
    "type(tree)"
   ]
  },
  {
   "cell_type": "markdown",
   "metadata": {},
   "source": [
    "Based primarily on CSS\n",
    "There is no find all. Instead, we can access elements using the .css() method"
   ]
  },
  {
   "cell_type": "code",
   "execution_count": null,
   "metadata": {},
   "outputs": [],
   "source": [
    "tree.css(\"img\") "
   ]
  },
  {
   "cell_type": "code",
   "execution_count": null,
   "metadata": {},
   "outputs": [],
   "source": [
    "from random import choice \n",
    "\n",
    "rand_choice = choice(tree.css(\"img\")) # tree.css(\"img\") returns a list of image nodes\n",
    "print(rand_choice.attributes)\n"
   ]
  },
  {
   "cell_type": "markdown",
   "metadata": {},
   "source": [
    "### CSS Combinators\n",
    "\n",
    "#### Simple selectors\n",
    "\n",
    "- by type ->      p\n",
    "- by class ->     .class_name\n",
    "- by id ->        #id_name\n",
    "- by attribute -> [some_attribute]\n",
    "\n",
    "#### Descendant Combinator\n",
    "\n",
    "By adding a space, we create a descendant combinator\n",
    "- p.some_class  = Find p tags with some_class\n",
    "- p .some_class = Find any tags with some_class that are descendants of p tags \n",
    "- h2 > a        =  Only direct a children of h2s, not any descendants"
   ]
  },
  {
   "cell_type": "markdown",
   "metadata": {},
   "source": [
    "#### Sibling combinators\n",
    "\n",
    "Denoted by \"+\""
   ]
  },
  {
   "cell_type": "code",
   "execution_count": null,
   "metadata": {},
   "outputs": [],
   "source": [
    "all_edit_links = tree.css(\" .mw-editsection-bracket + a\")\n",
    "len(all_edit_links)"
   ]
  }
 ],
 "metadata": {
  "kernelspec": {
   "display_name": "Python 3",
   "language": "python",
   "name": "python3"
  },
  "language_info": {
   "codemirror_mode": {
    "name": "ipython",
    "version": 3
   },
   "file_extension": ".py",
   "mimetype": "text/x-python",
   "name": "python",
   "nbconvert_exporter": "python",
   "pygments_lexer": "ipython3",
   "version": "3.8.10"
  },
  "orig_nbformat": 4
 },
 "nbformat": 4,
 "nbformat_minor": 2
}
