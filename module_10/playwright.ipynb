{
 "cells": [
  {
   "cell_type": "markdown",
   "metadata": {},
   "source": [
    "# Tackling JS with Microsoft PlayWright\n",
    "\n",
    "- What you see != What you get\n",
    "- What we are seeing on the website is a full-fledged HTML with dynamic JS content rendered\n",
    "- When we try to scrape it, we get back a barebones HTML page \n",
    "- Thus, we might not be able to access the data that we see (error: NoneType or Empty Array)\n",
    "\n",
    "Thus, we need to let the Javascript execute\n",
    "- We use a full headless browser\n",
    "- <b>Selenium</b> is the most popular option\n",
    "- But Playwright might be better"
   ]
  },
  {
   "cell_type": "markdown",
   "metadata": {},
   "source": [
    "## Microsoft Playwright\n",
    "\n",
    "1. We will use it for headless browsing. But, it can do much more. It is used for web testing\n",
    "2. Seamless cross-browser compatibility\n",
    "3. Cleaner API and better performance than Selenium\n"
   ]
  },
  {
   "cell_type": "code",
   "execution_count": 8,
   "metadata": {},
   "outputs": [
    {
     "name": "stdout",
     "output_type": "stream",
     "text": [
      "Requirement already satisfied: playwright==1.30.0 in /home/nikhilbhave9/.local/lib/python3.8/site-packages (1.30.0)\n",
      "Requirement already satisfied: pyee==9.0.4 in /home/nikhilbhave9/.local/lib/python3.8/site-packages (from playwright==1.30.0) (9.0.4)\n",
      "Requirement already satisfied: greenlet==2.0.1 in /home/nikhilbhave9/.local/lib/python3.8/site-packages (from playwright==1.30.0) (2.0.1)\n",
      "Requirement already satisfied: typing-extensions; python_version <= \"3.8\" in /home/nikhilbhave9/.local/lib/python3.8/site-packages (from playwright==1.30.0) (4.7.1)\n",
      "Requirement already satisfied: selectolax in /home/nikhilbhave9/.local/lib/python3.8/site-packages (0.3.12)\n",
      "Requirement already satisfied: Cython>=0.29.23 in /home/nikhilbhave9/.local/lib/python3.8/site-packages (from selectolax) (3.0.0)\n",
      "Installing dependencies...\n",
      "Switching to root user to install dependencies...\n",
      "[sudo] password for nikhilbhave9: \n",
      "Traceback (most recent call last):\n",
      "  File \"/home/nikhilbhave9/.local/bin/playwright\", line 8, in <module>\n",
      "    sys.exit(main())\n",
      "  File \"/home/nikhilbhave9/.local/lib/python3.8/site-packages/playwright/__main__.py\", line 23, in main\n",
      "    completed_process = subprocess.run(\n",
      "  File \"/usr/lib/python3.8/subprocess.py\", line 495, in run\n",
      "    stdout, stderr = process.communicate(input, timeout=timeout)\n",
      "  File \"/usr/lib/python3.8/subprocess.py\", line 1020, in communicate\n",
      "    self.wait()\n",
      "  File \"/usr/lib/python3.8/subprocess.py\", line 1083, in wait\n",
      "    return self._wait(timeout=timeout)\n",
      "  File \"/usr/lib/python3.8/subprocess.py\", line 1806, in _wait\n",
      "    (pid, sts) = self._try_wait(0)\n",
      "  File \"/usr/lib/python3.8/subprocess.py\", line 1764, in _try_wait\n",
      "    (pid, sts) = os.waitpid(self.pid, wait_flags)\n",
      "KeyboardInterrupt\n",
      "Sorry, try again.\n",
      "sudo: a terminal is required to read the password; either use the -S option to read from standard input or configure an askpass helper\n"
     ]
    }
   ],
   "source": [
    "!pip install playwright==1.30.0\n",
    "!pip install selectolax\n",
    "!playwright install chromium\n",
    "!playwright install-deps"
   ]
  },
  {
   "cell_type": "code",
   "execution_count": 3,
   "metadata": {},
   "outputs": [],
   "source": [
    "import requests as r\n",
    "from playwright.sync_api import sync_playwright\n",
    "from selectolax.parser import HTMLParser\n",
    "import asyncio\n",
    "from playwright.async_api import async_playwright"
   ]
  },
  {
   "cell_type": "code",
   "execution_count": 7,
   "metadata": {},
   "outputs": [
    {
     "ename": "Error",
     "evalue": "\n╔══════════════════════════════════════════════════════╗\n║ Host system is missing dependencies to run browsers. ║\n║ Please install them with the following command:      ║\n║                                                      ║\n║     sudo playwright install-deps                     ║\n║                                                      ║\n║ Alternatively, use apt:                              ║\n║     sudo apt-get install libgbm1\\                    ║\n║         libxkbcommon0\\                               ║\n║         libpango-1.0-0\\                              ║\n║         libcairo2                                    ║\n║                                                      ║\n║ <3 Playwright Team                                   ║\n╚══════════════════════════════════════════════════════╝",
     "output_type": "error",
     "traceback": [
      "\u001b[0;31m---------------------------------------------------------------------------\u001b[0m",
      "\u001b[0;31mError\u001b[0m                                     Traceback (most recent call last)",
      "Cell \u001b[0;32mIn[7], line 21\u001b[0m\n\u001b[1;32m     17\u001b[0m     html \u001b[39m=\u001b[39m \u001b[39mawait\u001b[39;00m extract_full_body_html(url)\n\u001b[1;32m     18\u001b[0m     \u001b[39m# return html\u001b[39;00m\n\u001b[0;32m---> 21\u001b[0m html_content \u001b[39m=\u001b[39m \u001b[39mawait\u001b[39;00m main()\n\u001b[1;32m     23\u001b[0m \u001b[39m# Now you can call your other functions using the extracted HTML content\u001b[39;00m\n\u001b[1;32m     24\u001b[0m \u001b[39m# For example:\u001b[39;00m\n\u001b[1;32m     25\u001b[0m \u001b[39m# extract_budget_from_html(html_content)\u001b[39;00m\n",
      "Cell \u001b[0;32mIn[7], line 17\u001b[0m, in \u001b[0;36mmain\u001b[0;34m()\u001b[0m\n\u001b[1;32m     15\u001b[0m \u001b[39masync\u001b[39;00m \u001b[39mdef\u001b[39;00m \u001b[39mmain\u001b[39m():\n\u001b[1;32m     16\u001b[0m     url \u001b[39m=\u001b[39m \u001b[39m\"\u001b[39m\u001b[39mhttps://www.usaspending.gov/agency/department-of-defense\u001b[39m\u001b[39m\"\u001b[39m\n\u001b[0;32m---> 17\u001b[0m     html \u001b[39m=\u001b[39m \u001b[39mawait\u001b[39;00m extract_full_body_html(url)\n",
      "Cell \u001b[0;32mIn[7], line 4\u001b[0m, in \u001b[0;36mextract_full_body_html\u001b[0;34m(url)\u001b[0m\n\u001b[1;32m      1\u001b[0m \u001b[39masync\u001b[39;00m \u001b[39mdef\u001b[39;00m \u001b[39mextract_full_body_html\u001b[39m(url):\n\u001b[1;32m      2\u001b[0m     \u001b[39m# Use playwright here\u001b[39;00m\n\u001b[1;32m      3\u001b[0m     \u001b[39masync\u001b[39;00m \u001b[39mwith\u001b[39;00m async_playwright() \u001b[39mas\u001b[39;00m p:\n\u001b[0;32m----> 4\u001b[0m         browser \u001b[39m=\u001b[39m \u001b[39mawait\u001b[39;00m p\u001b[39m.\u001b[39mchromium\u001b[39m.\u001b[39mlaunch(headless\u001b[39m=\u001b[39m\u001b[39mFalse\u001b[39;00m)\n\u001b[1;32m      5\u001b[0m         page \u001b[39m=\u001b[39m \u001b[39mawait\u001b[39;00m browser\u001b[39m.\u001b[39mnew_page()\n\u001b[1;32m      6\u001b[0m         \u001b[39mawait\u001b[39;00m page\u001b[39m.\u001b[39mgoto(url)\n",
      "File \u001b[0;32m~/.local/lib/python3.8/site-packages/playwright/async_api/_generated.py:14340\u001b[0m, in \u001b[0;36mBrowserType.launch\u001b[0;34m(self, executable_path, channel, args, ignore_default_args, handle_sigint, handle_sigterm, handle_sighup, timeout, env, headless, devtools, proxy, downloads_path, slow_mo, traces_dir, chromium_sandbox, firefox_user_prefs)\u001b[0m\n\u001b[1;32m  14222\u001b[0m \u001b[39masync\u001b[39;00m \u001b[39mdef\u001b[39;00m \u001b[39mlaunch\u001b[39m(\n\u001b[1;32m  14223\u001b[0m     \u001b[39mself\u001b[39m,\n\u001b[1;32m  14224\u001b[0m     \u001b[39m*\u001b[39m,\n\u001b[0;32m   (...)\u001b[0m\n\u001b[1;32m  14245\u001b[0m     ] \u001b[39m=\u001b[39m \u001b[39mNone\u001b[39;00m\n\u001b[1;32m  14246\u001b[0m ) \u001b[39m-\u001b[39m\u001b[39m>\u001b[39m \u001b[39m\"\u001b[39m\u001b[39mBrowser\u001b[39m\u001b[39m\"\u001b[39m:\n\u001b[1;32m  14247\u001b[0m     \u001b[39m\"\"\"BrowserType.launch\u001b[39;00m\n\u001b[1;32m  14248\u001b[0m \n\u001b[1;32m  14249\u001b[0m \u001b[39m    Returns the browser instance.\u001b[39;00m\n\u001b[0;32m   (...)\u001b[0m\n\u001b[1;32m  14336\u001b[0m \u001b[39m    Browser\u001b[39;00m\n\u001b[1;32m  14337\u001b[0m \u001b[39m    \"\"\"\u001b[39;00m\n\u001b[1;32m  14339\u001b[0m     \u001b[39mreturn\u001b[39;00m mapping\u001b[39m.\u001b[39mfrom_impl(\n\u001b[0;32m> 14340\u001b[0m         \u001b[39mawait\u001b[39;00m \u001b[39mself\u001b[39m\u001b[39m.\u001b[39m_impl_obj\u001b[39m.\u001b[39mlaunch(\n\u001b[1;32m  14341\u001b[0m             executablePath\u001b[39m=\u001b[39mexecutable_path,\n\u001b[1;32m  14342\u001b[0m             channel\u001b[39m=\u001b[39mchannel,\n\u001b[1;32m  14343\u001b[0m             args\u001b[39m=\u001b[39mmapping\u001b[39m.\u001b[39mto_impl(args),\n\u001b[1;32m  14344\u001b[0m             ignoreDefaultArgs\u001b[39m=\u001b[39mmapping\u001b[39m.\u001b[39mto_impl(ignore_default_args),\n\u001b[1;32m  14345\u001b[0m             handleSIGINT\u001b[39m=\u001b[39mhandle_sigint,\n\u001b[1;32m  14346\u001b[0m             handleSIGTERM\u001b[39m=\u001b[39mhandle_sigterm,\n\u001b[1;32m  14347\u001b[0m             handleSIGHUP\u001b[39m=\u001b[39mhandle_sighup,\n\u001b[1;32m  14348\u001b[0m             timeout\u001b[39m=\u001b[39mtimeout,\n\u001b[1;32m  14349\u001b[0m             env\u001b[39m=\u001b[39mmapping\u001b[39m.\u001b[39mto_impl(env),\n\u001b[1;32m  14350\u001b[0m             headless\u001b[39m=\u001b[39mheadless,\n\u001b[1;32m  14351\u001b[0m             devtools\u001b[39m=\u001b[39mdevtools,\n\u001b[1;32m  14352\u001b[0m             proxy\u001b[39m=\u001b[39mproxy,\n\u001b[1;32m  14353\u001b[0m             downloadsPath\u001b[39m=\u001b[39mdownloads_path,\n\u001b[1;32m  14354\u001b[0m             slowMo\u001b[39m=\u001b[39mslow_mo,\n\u001b[1;32m  14355\u001b[0m             tracesDir\u001b[39m=\u001b[39mtraces_dir,\n\u001b[1;32m  14356\u001b[0m             chromiumSandbox\u001b[39m=\u001b[39mchromium_sandbox,\n\u001b[1;32m  14357\u001b[0m             firefoxUserPrefs\u001b[39m=\u001b[39mmapping\u001b[39m.\u001b[39mto_impl(firefox_user_prefs),\n\u001b[1;32m  14358\u001b[0m         )\n\u001b[1;32m  14359\u001b[0m     )\n",
      "File \u001b[0;32m~/.local/lib/python3.8/site-packages/playwright/_impl/_browser_type.py:93\u001b[0m, in \u001b[0;36mBrowserType.launch\u001b[0;34m(self, executablePath, channel, args, ignoreDefaultArgs, handleSIGINT, handleSIGTERM, handleSIGHUP, timeout, env, headless, devtools, proxy, downloadsPath, slowMo, tracesDir, chromiumSandbox, firefoxUserPrefs)\u001b[0m\n\u001b[1;32m     90\u001b[0m params \u001b[39m=\u001b[39m locals_to_params(\u001b[39mlocals\u001b[39m())\n\u001b[1;32m     91\u001b[0m normalize_launch_params(params)\n\u001b[1;32m     92\u001b[0m browser \u001b[39m=\u001b[39m cast(\n\u001b[0;32m---> 93\u001b[0m     Browser, from_channel(\u001b[39mawait\u001b[39;00m \u001b[39mself\u001b[39m\u001b[39m.\u001b[39m_channel\u001b[39m.\u001b[39msend(\u001b[39m\"\u001b[39m\u001b[39mlaunch\u001b[39m\u001b[39m\"\u001b[39m, params))\n\u001b[1;32m     94\u001b[0m )\n\u001b[1;32m     95\u001b[0m browser\u001b[39m.\u001b[39m_set_browser_type(\u001b[39mself\u001b[39m)\n\u001b[1;32m     96\u001b[0m \u001b[39mreturn\u001b[39;00m browser\n",
      "File \u001b[0;32m~/.local/lib/python3.8/site-packages/playwright/_impl/_connection.py:44\u001b[0m, in \u001b[0;36mChannel.send\u001b[0;34m(self, method, params)\u001b[0m\n\u001b[1;32m     43\u001b[0m \u001b[39masync\u001b[39;00m \u001b[39mdef\u001b[39;00m \u001b[39msend\u001b[39m(\u001b[39mself\u001b[39m, method: \u001b[39mstr\u001b[39m, params: Dict \u001b[39m=\u001b[39m \u001b[39mNone\u001b[39;00m) \u001b[39m-\u001b[39m\u001b[39m>\u001b[39m Any:\n\u001b[0;32m---> 44\u001b[0m     \u001b[39mreturn\u001b[39;00m \u001b[39mawait\u001b[39;00m \u001b[39mself\u001b[39m\u001b[39m.\u001b[39m_connection\u001b[39m.\u001b[39mwrap_api_call(\n\u001b[1;32m     45\u001b[0m         \u001b[39mlambda\u001b[39;00m: \u001b[39mself\u001b[39m\u001b[39m.\u001b[39minner_send(method, params, \u001b[39mFalse\u001b[39;00m)\n\u001b[1;32m     46\u001b[0m     )\n",
      "File \u001b[0;32m~/.local/lib/python3.8/site-packages/playwright/_impl/_connection.py:419\u001b[0m, in \u001b[0;36mConnection.wrap_api_call\u001b[0;34m(self, cb, is_internal)\u001b[0m\n\u001b[1;32m    417\u001b[0m     \u001b[39mself\u001b[39m\u001b[39m.\u001b[39m_api_zone\u001b[39m.\u001b[39mset(metadata)\n\u001b[1;32m    418\u001b[0m \u001b[39mtry\u001b[39;00m:\n\u001b[0;32m--> 419\u001b[0m     \u001b[39mreturn\u001b[39;00m \u001b[39mawait\u001b[39;00m cb()\n\u001b[1;32m    420\u001b[0m \u001b[39mfinally\u001b[39;00m:\n\u001b[1;32m    421\u001b[0m     \u001b[39mself\u001b[39m\u001b[39m.\u001b[39m_api_zone\u001b[39m.\u001b[39mset(\u001b[39mNone\u001b[39;00m)\n",
      "File \u001b[0;32m~/.local/lib/python3.8/site-packages/playwright/_impl/_connection.py:79\u001b[0m, in \u001b[0;36mChannel.inner_send\u001b[0;34m(self, method, params, return_as_dict)\u001b[0m\n\u001b[1;32m     77\u001b[0m \u001b[39mif\u001b[39;00m \u001b[39mnot\u001b[39;00m callback\u001b[39m.\u001b[39mfuture\u001b[39m.\u001b[39mdone():\n\u001b[1;32m     78\u001b[0m     callback\u001b[39m.\u001b[39mfuture\u001b[39m.\u001b[39mcancel()\n\u001b[0;32m---> 79\u001b[0m result \u001b[39m=\u001b[39m \u001b[39mnext\u001b[39;49m(\u001b[39miter\u001b[39;49m(done))\u001b[39m.\u001b[39;49mresult()\n\u001b[1;32m     80\u001b[0m \u001b[39m# Protocol now has named return values, assume result is one level deeper unless\u001b[39;00m\n\u001b[1;32m     81\u001b[0m \u001b[39m# there is explicit ambiguity.\u001b[39;00m\n\u001b[1;32m     82\u001b[0m \u001b[39mif\u001b[39;00m \u001b[39mnot\u001b[39;00m result:\n",
      "\u001b[0;31mError\u001b[0m: \n╔══════════════════════════════════════════════════════╗\n║ Host system is missing dependencies to run browsers. ║\n║ Please install them with the following command:      ║\n║                                                      ║\n║     sudo playwright install-deps                     ║\n║                                                      ║\n║ Alternatively, use apt:                              ║\n║     sudo apt-get install libgbm1\\                    ║\n║         libxkbcommon0\\                               ║\n║         libpango-1.0-0\\                              ║\n║         libcairo2                                    ║\n║                                                      ║\n║ <3 Playwright Team                                   ║\n╚══════════════════════════════════════════════════════╝"
     ]
    }
   ],
   "source": [
    "async def extract_full_body_html(url):\n",
    "    # Use playwright here\n",
    "    async with async_playwright() as p:\n",
    "        browser = await p.chromium.launch(headless=False)\n",
    "        page = await browser.new_page()\n",
    "        await page.goto(url)\n",
    "        # Add further actions like waiting for specific elements, interacting with the page, etc.\n",
    "        # html = await page.content()\n",
    "        # await browser.close()\n",
    "        # return html\n",
    "\n",
    "# def extract_budget_from_html(html):\n",
    "#     #sdf\n",
    "\n",
    "async def main():\n",
    "    url = \"https://www.usaspending.gov/agency/department-of-defense\"\n",
    "    html = await extract_full_body_html(url)\n",
    "    # return html\n",
    "\n",
    "\n",
    "html_content = await main()\n",
    "\n",
    "# Now you can call your other functions using the extracted HTML content\n",
    "# For example:\n",
    "# extract_budget_from_html(html_content)"
   ]
  }
 ],
 "metadata": {
  "kernelspec": {
   "display_name": "Python 3",
   "language": "python",
   "name": "python3"
  },
  "language_info": {
   "codemirror_mode": {
    "name": "ipython",
    "version": 3
   },
   "file_extension": ".py",
   "mimetype": "text/x-python",
   "name": "python",
   "nbconvert_exporter": "python",
   "pygments_lexer": "ipython3",
   "version": "3.8.10"
  },
  "orig_nbformat": 4
 },
 "nbformat": 4,
 "nbformat_minor": 2
}
